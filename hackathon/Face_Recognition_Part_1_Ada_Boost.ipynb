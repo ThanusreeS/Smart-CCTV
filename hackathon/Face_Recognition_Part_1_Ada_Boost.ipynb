{
 "cells": [
  {
   "cell_type": "code",
   "execution_count": null,
   "metadata": {
    "vscode": {
     "languageId": "plaintext"
    }
   },
   "outputs": [],
   "source": [
    "from IPython.display import Image\n",
    "Image(filename='FreeBirds_Crew_FR.jpg')"
   ]
  },
  {
   "cell_type": "code",
   "execution_count": null,
   "metadata": {
    "vscode": {
     "languageId": "plaintext"
    }
   },
   "outputs": [],
   "source": [
    "# Create_Database\n",
    "import cv2, sys, numpy, os, time\n",
    "count = 0\n",
    "size = 4\n",
    "fn_haar = 'haarcascade_frontalface_default.xml'\n",
    "fn_dir = 'database'\n",
    "fn_name = input(\"Enter the Person's Name: \")\n",
    "path = os.path.join(fn_dir, fn_name)\n",
    "if not os.path.isdir(path):\n",
    "    os.mkdir(path)\n",
    "(im_width, im_height) = (112, 92)\n",
    "haar_cascade = cv2.CascadeClassifier(fn_haar)\n",
    "webcam = cv2.VideoCapture(0)\n",
    "\n",
    "print(\"-----------------------Taking pictures----------------------\")\n",
    "print(\"--------------------Give some expressions---------------------\")\n",
    "\n",
    "while count < 45:\n",
    "    (rval, im) = webcam.read()\n",
    "    im = cv2.flip(im, 1, 0)\n",
    "    gray = cv2.cvtColor(im, cv2.COLOR_BGR2GRAY)\n",
    "    mini = cv2.resize(gray,(gray.shape[1]//size, gray.shape[0]//size))\n",
    "    faces = haar_cascade.detectMultiScale(mini)\n",
    "    faces = sorted(faces, key=lambda x: x[3])\n",
    "    if faces:\n",
    "        face_i = faces[0]\n",
    "        (x, y, w, h) = [v * size for v in face_i]\n",
    "        face = gray[y:y + h, x:x + w]\n",
    "        face_resize = cv2.resize(face, (im_width, im_height))\n",
    "        pin=sorted([int(n[:n.find('.')]) for n in os.listdir(path)\n",
    "               if n[0]!='.' ]+[0])[-1] + 1\n",
    "        cv2.imwrite('%s/%s.png' % (path, pin), face_resize)\n",
    "        cv2.rectangle(im, (x, y), (x + w, y + h), (0, 255, 0), 3)\n",
    "        cv2.putText(im, fn_name, (x - 10, y - 10), cv2.FONT_HERSHEY_PLAIN,\n",
    "            1,(0, 255, 0))\n",
    "        time.sleep(0.38)\n",
    "        count += 1\n",
    "    cv2.imshow('OpenCV', im)\n",
    "    key = cv2.waitKey(10)\n",
    "    if key == 27:\n",
    "        break\n",
    "print(str(count) + \" images taken and saved to \" + fn_name +\" folder in database \")"
   ]
  },
  {
   "cell_type": "code",
   "execution_count": null,
   "metadata": {
    "vscode": {
     "languageId": "plaintext"
    }
   },
   "outputs": [],
   "source": [
    "import cv2, sys, numpy, os\n",
    "\n",
    "size = 4\n",
    "haar_file = 'haarcascade_frontalface_default.xml'\n",
    "datasets = 'database'\n",
    "\n",
    "print('Training...')\n",
    "# Create a list of images and a list of corresponding names\n",
    "(images, lables, names, id) = ([], [], {}, 0)\n",
    "for (subdirs, dirs, files) in os.walk(datasets):\n",
    "    for subdir in dirs:\n",
    "        names[id] = subdir\n",
    "        subjectpath = os.path.join(datasets, subdir)\n",
    "        for filename in os.listdir(subjectpath):\n",
    "            path = subjectpath + '/' + filename\n",
    "            lable = id\n",
    "            images.append(cv2.imread(path, 0))\n",
    "            lables.append(int(lable))\n",
    "        id += 1\n",
    "(width, height) = (130, 100)\n",
    "\n",
    "# Create a Numpy array from the two lists above\n",
    "(images, lables) = [numpy.array(lis) for lis in [images, lables]]\n",
    "\n",
    "# OpenCV trains a model from the images\n",
    "# NOTE FOR OpenCV2: remove '.face'\n",
    "model = cv2.face.LBPHFaceRecognizer_create()\n",
    "model.train(images, lables)\n",
    "\n",
    "face_cascade = cv2.CascadeClassifier(haar_file)\n",
    "webcam = cv2.VideoCapture(0)\n",
    "while True:\n",
    "    (_, im) = webcam.read()\n",
    "    gray = cv2.cvtColor(im, cv2.COLOR_BGR2GRAY)\n",
    "    faces = face_cascade.detectMultiScale(gray, 1.3, 5)\n",
    "    for (x, y, w, h) in faces:\n",
    "        cv2.rectangle(im, (x, y), (x + w, y + h), (255, 0, 0), 2)\n",
    "        face = gray[y:y + h, x:x + w]\n",
    "        face_resize = cv2.resize(face, (width, height))\n",
    "        # Try to recognize the face\n",
    "        prediction = model.predict(face_resize)\n",
    "        cv2.rectangle(im, (x, y), (x + w, y + h), (0, 255, 0), 3)\n",
    "\n",
    "        if prediction[1] < 500:\n",
    "            cv2.putText(im, '%s - %.0f' % (names[prediction[0]], prediction[1]), (x - 10, y - 10),\n",
    "                        cv2.FONT_HERSHEY_PLAIN, 1, (0, 255, 0))\n",
    "        else:\n",
    "            cv2.putText(im, 'not recognized', (x - 10, y - 10), cv2.FONT_HERSHEY_PLAIN, 1, (0, 255, 0))\n",
    "\n",
    "    cv2.imshow('OpenCV', im)\n",
    "    if cv2.waitKey(1) & 0xFF ==ord('q'):\n",
    "        break\n",
    "        \n",
    "webcam.release()\n",
    "cv2.destroyAllWindows()"
   ]
  }
 ],
 "metadata": {
  "language_info": {
   "name": "python"
  },
  "orig_nbformat": 4
 },
 "nbformat": 4,
 "nbformat_minor": 2
}
